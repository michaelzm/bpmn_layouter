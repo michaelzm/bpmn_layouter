{
 "cells": [
  {
   "cell_type": "code",
   "execution_count": 1,
   "metadata": {},
   "outputs": [],
   "source": [
    "import json\n",
    "import numpy as np\n",
    "from input_data import json_string_1, xml_file_2, json_string_2\n",
    "from xml_generator import json_to_flattened_dict, generate_flows_based_on_elements, bpmn_to_json\n",
    "from data_structure_methods import dump_positions, init_element_positions, assign_shift_and_depth\n",
    "from data_structures import Node, Edge"
   ]
  },
  {
   "cell_type": "code",
   "execution_count": 2,
   "metadata": {},
   "outputs": [],
   "source": [
    "import re\n",
    "import ast\n",
    "import json\n",
    "\n",
    "parsed_jsons = []\n",
    "\n",
    "def clean_line(line):\n",
    "    # Remove ObjectId(...) and datetime.datetime(...) safely\n",
    "    line = re.sub(r\"ObjectId\\('.*?'\\)\", '\"ObjectId\"', line)\n",
    "    line = re.sub(r\"datetime\\.datetime\\([^\\)]+\\)\", '\"datetime\"', line)\n",
    "    return line\n",
    "\n",
    "with open(\"out.txt\", \"r\") as file:\n",
    "    for line in file:\n",
    "        try:\n",
    "            cleaned_line = clean_line(line)\n",
    "\n",
    "            # Safely parse the outer line to a Python dictionary\n",
    "            line_dict = ast.literal_eval(cleaned_line)\n",
    "\n",
    "            # Get the 'content' string\n",
    "            content_raw = line_dict.get('content')\n",
    "            if content_raw:\n",
    "                # Parse the inner string content into a dictionary\n",
    "                content_dict = ast.literal_eval(content_raw)\n",
    "                parsed_jsons.append(content_dict)\n",
    "\n",
    "        except Exception as e:\n",
    "            print(f\"Failed to parse line: {e}\")"
   ]
  },
  {
   "cell_type": "code",
   "execution_count": 3,
   "metadata": {},
   "outputs": [
    {
     "name": "stdout",
     "output_type": "stream",
     "text": [
      "processing entry  0\n",
      "{'elements': [{'id': 'Event_1fgdyvq', 'type': 'startEvent', 'label': 'probable recourse detected', 'incoming': [], 'outgoing': ['flow_Event_1fgdyvq_Task_0iirfhd']}, {'id': 'Task_0iirfhd', 'type': 'task', 'label': 'get information', 'incoming': ['flow_Event_1fgdyvq_Task_0iirfhd'], 'outgoing': ['flow_Task_0iirfhd_Task_0iirfhd1']}, {'id': 'Task_0iirfhd1', 'type': 'task', 'label': 'check case', 'incoming': ['flow_Task_0iirfhd_Task_0iirfhd1'], 'outgoing': ['flow_Task_0iirfhd1_ExclusiveGateway_092mc05']}, {'id': 'ExclusiveGateway_092mc05', 'type': 'exclusiveGateway', 'label': 'recourse possible?', 'incoming': ['flow_Task_0iirfhd1_ExclusiveGateway_092mc05'], 'outgoing': ['flow_ExclusiveGateway_092mc05_Task_02fdytg', 'flow_ExclusiveGateway_092mc05_Task_04aofbe']}, {'id': 'Task_02fdytg', 'type': 'task', 'label': 'send request for payment', 'incoming': ['flow_ExclusiveGateway_092mc05_Task_02fdytg'], 'outgoing': ['flow_Task_02fdytg_Task_12lthpj']}, {'id': 'Task_12lthpj', 'type': 'task', 'label': 'send reminder', 'incoming': ['flow_Task_02fdytg_Task_12lthpj'], 'outgoing': ['flow_Task_12lthpj_Gateway_0pkmva3']}, {'id': 'Gateway_0pkmva3', 'type': 'exclusiveGateway', 'label': 'money received or deadline reached', 'incoming': ['flow_Task_12lthpj_Gateway_0pkmva3'], 'outgoing': ['flow_Gateway_0pkmva3_Task_1bwmf45', 'flow_Gateway_0pkmva3_Task_1w7bb1w', 'flow_Gateway_0pkmva3_Task_0eti3m2']}, {'id': 'Task_1bwmf45', 'type': 'task', 'label': 'make booking', 'incoming': ['flow_Gateway_0pkmva3_Task_1bwmf45'], 'outgoing': ['flow_Task_1bwmf45_Task_0yan60f']}, {'id': 'Task_0yan60f', 'type': 'task', 'label': 'close case', 'incoming': ['flow_Task_1bwmf45_Task_0yan60f'], 'outgoing': ['flow_Task_0yan60f_EndEvent_119yhl0']}, {'id': 'EndEvent_119yhl0', 'type': 'endEvent', 'label': 'case closed', 'incoming': ['flow_Task_0yan60f_EndEvent_119yhl0'], 'outgoing': []}, {'id': 'Task_04aofbe', 'type': 'task', 'label': 'close case', 'incoming': ['flow_ExclusiveGateway_092mc05_Task_04aofbe'], 'outgoing': ['flow_Task_04aofbe_EndEvent_01a6rq8']}, {'id': 'EndEvent_01a6rq8', 'type': 'endEvent', 'label': 'case closed', 'incoming': ['flow_Task_04aofbe_EndEvent_01a6rq8'], 'outgoing': []}, {'id': 'Task_0eti3m2', 'type': 'task', 'label': 'check disagreement', 'incoming': ['flow_Gateway_0pkmva3_Task_0eti3m2'], 'outgoing': ['flow_Task_0eti3m2_ExclusiveGateway_0lk2nir']}, {'id': 'ExclusiveGateway_0lk2nir', 'type': 'exclusiveGateway', 'label': 'disagreement valid?', 'incoming': ['flow_Task_0eti3m2_ExclusiveGateway_0lk2nir'], 'outgoing': ['flow_ExclusiveGateway_0lk2nir_Task_1qlbv5i', 'flow_ExclusiveGateway_0lk2nir_Task_1w7bb1w']}, {'id': 'Task_1qlbv5i', 'type': 'task', 'label': 'close case', 'incoming': ['flow_ExclusiveGateway_0lk2nir_Task_1qlbv5i'], 'outgoing': ['flow_Task_1qlbv5i_EndEvent_0k9uozu']}, {'id': 'EndEvent_0k9uozu', 'type': 'endEvent', 'label': 'case closed', 'incoming': ['flow_Task_1qlbv5i_EndEvent_0k9uozu'], 'outgoing': []}, {'id': 'Task_1w7bb1w', 'type': 'task', 'label': 'hand over to collection agency', 'incoming': ['flow_Gateway_0pkmva3_Task_1w7bb1w', 'flow_ExclusiveGateway_0lk2nir_Task_1w7bb1w'], 'outgoing': ['flow_Task_1w7bb1w_EndEvent_0nfuudw']}, {'id': 'EndEvent_0nfuudw', 'type': 'endEvent', 'label': 'case open', 'incoming': ['flow_Task_1w7bb1w_EndEvent_0nfuudw'], 'outgoing': []}], 'flows': [{'id': 'flow_Event_1fgdyvq_Task_0iirfhd', 'type': 'flow', 'label': '', 'incoming': ['Event_1fgdyvq'], 'outgoing': ['Task_0iirfhd']}, {'id': 'flow_Task_0iirfhd_Task_0iirfhd1', 'type': 'flow', 'label': '', 'incoming': ['Task_0iirfhd'], 'outgoing': ['Task_0iirfhd1']}, {'id': 'flow_Task_0iirfhd1_ExclusiveGateway_092mc05', 'type': 'flow', 'label': '', 'incoming': ['Task_0iirfhd1'], 'outgoing': ['ExclusiveGateway_092mc05']}, {'id': 'flow_ExclusiveGateway_092mc05_Task_02fdytg', 'type': 'flow', 'label': '', 'incoming': ['ExclusiveGateway_092mc05'], 'outgoing': ['Task_02fdytg']}, {'id': 'flow_ExclusiveGateway_092mc05_Task_04aofbe', 'type': 'flow', 'label': '', 'incoming': ['ExclusiveGateway_092mc05'], 'outgoing': ['Task_04aofbe']}, {'id': 'flow_Task_02fdytg_Task_12lthpj', 'type': 'flow', 'label': '', 'incoming': ['Task_02fdytg'], 'outgoing': ['Task_12lthpj']}, {'id': 'flow_Task_12lthpj_Gateway_0pkmva3', 'type': 'flow', 'label': '', 'incoming': ['Task_12lthpj'], 'outgoing': ['Gateway_0pkmva3']}, {'id': 'flow_Gateway_0pkmva3_Task_1bwmf45', 'type': 'flow', 'label': '', 'incoming': ['Gateway_0pkmva3'], 'outgoing': ['Task_1bwmf45']}, {'id': 'flow_Gateway_0pkmva3_Task_1w7bb1w', 'type': 'flow', 'label': '', 'incoming': ['Gateway_0pkmva3'], 'outgoing': ['Task_1w7bb1w']}, {'id': 'flow_Gateway_0pkmva3_Task_0eti3m2', 'type': 'flow', 'label': '', 'incoming': ['Gateway_0pkmva3'], 'outgoing': ['Task_0eti3m2']}, {'id': 'flow_Task_1bwmf45_Task_0yan60f', 'type': 'flow', 'label': '', 'incoming': ['Task_1bwmf45'], 'outgoing': ['Task_0yan60f']}, {'id': 'flow_Task_0yan60f_EndEvent_119yhl0', 'type': 'flow', 'label': '', 'incoming': ['Task_0yan60f'], 'outgoing': ['EndEvent_119yhl0']}, {'id': 'flow_Task_04aofbe_EndEvent_01a6rq8', 'type': 'flow', 'label': '', 'incoming': ['Task_04aofbe'], 'outgoing': ['EndEvent_01a6rq8']}, {'id': 'flow_Task_0eti3m2_ExclusiveGateway_0lk2nir', 'type': 'flow', 'label': '', 'incoming': ['Task_0eti3m2'], 'outgoing': ['ExclusiveGateway_0lk2nir']}, {'id': 'flow_ExclusiveGateway_0lk2nir_Task_1qlbv5i', 'type': 'flow', 'label': '', 'incoming': ['ExclusiveGateway_0lk2nir'], 'outgoing': ['Task_1qlbv5i']}, {'id': 'flow_ExclusiveGateway_0lk2nir_Task_1w7bb1w', 'type': 'flow', 'label': '', 'incoming': ['ExclusiveGateway_0lk2nir'], 'outgoing': ['Task_1w7bb1w']}, {'id': 'flow_Task_1qlbv5i_EndEvent_0k9uozu', 'type': 'flow', 'label': '', 'incoming': ['Task_1qlbv5i'], 'outgoing': ['EndEvent_0k9uozu']}, {'id': 'flow_Task_1w7bb1w_EndEvent_0nfuudw', 'type': 'flow', 'label': '', 'incoming': ['Task_1w7bb1w'], 'outgoing': ['EndEvent_0nfuudw']}]}\n"
     ]
    },
    {
     "ename": "NameError",
     "evalue": "name 'Node' is not defined",
     "output_type": "error",
     "traceback": [
      "\u001b[31m---------------------------------------------------------------------------\u001b[39m",
      "\u001b[31mNameError\u001b[39m                                 Traceback (most recent call last)",
      "\u001b[36mCell\u001b[39m\u001b[36m \u001b[39m\u001b[32mIn[3]\u001b[39m\u001b[32m, line 15\u001b[39m\n\u001b[32m     12\u001b[39m     elem[\u001b[33m\"\u001b[39m\u001b[33mincoming_flows\u001b[39m\u001b[33m\"\u001b[39m] = []\n\u001b[32m     14\u001b[39m parsed_json = generate_flows_based_on_elements(parsed_json_input)\n\u001b[32m---> \u001b[39m\u001b[32m15\u001b[39m elements_as_data_struc = \u001b[43massign_shift_and_depth\u001b[49m\u001b[43m(\u001b[49m\u001b[43mparsed_json\u001b[49m\u001b[43m)\u001b[49m\n\u001b[32m     17\u001b[39m elem_pos = init_element_positions(elements_as_data_struc)\n\u001b[32m     18\u001b[39m \u001b[38;5;28;01mfrom\u001b[39;00m\u001b[38;5;250m \u001b[39m\u001b[34;01mxml_generator\u001b[39;00m\u001b[38;5;250m \u001b[39m\u001b[38;5;28;01mimport\u001b[39;00m xml_position_appender, generate_top_bpmn_xml\n",
      "\u001b[36mFile \u001b[39m\u001b[32m~/Documents/development/bpmn-layouter/data_structure_methods.py:32\u001b[39m, in \u001b[36massign_shift_and_depth\u001b[39m\u001b[34m(parsed_json)\u001b[39m\n\u001b[32m     30\u001b[39m node = pydot.Node(n[\u001b[33m\"\u001b[39m\u001b[33mid\u001b[39m\u001b[33m\"\u001b[39m], label=n[\u001b[33m\"\u001b[39m\u001b[33mlabel\u001b[39m\u001b[33m\"\u001b[39m])\n\u001b[32m     31\u001b[39m graph.add_node(node)\n\u001b[32m---> \u001b[39m\u001b[32m32\u001b[39m new_node = \u001b[43mNode\u001b[49m(n[\u001b[33m\"\u001b[39m\u001b[33mid\u001b[39m\u001b[33m\"\u001b[39m], n[\u001b[33m\"\u001b[39m\u001b[33mlabel\u001b[39m\u001b[33m\"\u001b[39m])\n\u001b[32m     33\u001b[39m new_node.set_type(n[\u001b[33m\"\u001b[39m\u001b[33mtype\u001b[39m\u001b[33m\"\u001b[39m])\n\u001b[32m     34\u001b[39m elements_as_data_struc[n[\u001b[33m\"\u001b[39m\u001b[33mid\u001b[39m\u001b[33m\"\u001b[39m]] = new_node\n",
      "\u001b[31mNameError\u001b[39m: name 'Node' is not defined"
     ]
    }
   ],
   "source": [
    "import json\n",
    "import pydot\n",
    "import re\n",
    "\n",
    "for process_i, json_process in enumerate(parsed_jsons):\n",
    "    print(\"processing entry \",process_i)\n",
    "    json_data = json.dumps(json_process, indent=4)\n",
    "    parsed_json_input = json.loads(json_data)\n",
    "    \n",
    "    for elem in parsed_json_input[\"elements\"]:\n",
    "        elem[\"outgoing_flows\"] = []\n",
    "        elem[\"incoming_flows\"] = []\n",
    "    \n",
    "    parsed_json = generate_flows_based_on_elements(parsed_json_input)\n",
    "    elements_as_data_struc = assign_shift_and_depth(parsed_json)\n",
    "\n",
    "    elem_pos = init_element_positions(elements_as_data_struc)\n",
    "    from xml_generator import xml_position_appender, generate_top_bpmn_xml\n",
    "    top_xml_part = generate_top_bpmn_xml(elem_pos)\n",
    "    xml_position_appender(elem_pos, top_xml_part, f\"json_process_v12_{process_i}\")"
   ]
  },
  {
   "cell_type": "code",
   "execution_count": null,
   "metadata": {},
   "outputs": [],
   "source": []
  }
 ],
 "metadata": {
  "kernelspec": {
   "display_name": "layouter-env",
   "language": "python",
   "name": "python3"
  },
  "language_info": {
   "codemirror_mode": {
    "name": "ipython",
    "version": 3
   },
   "file_extension": ".py",
   "mimetype": "text/x-python",
   "name": "python",
   "nbconvert_exporter": "python",
   "pygments_lexer": "ipython3",
   "version": "3.13.2"
  }
 },
 "nbformat": 4,
 "nbformat_minor": 2
}
