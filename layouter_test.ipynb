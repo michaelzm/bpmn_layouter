{
 "cells": [
  {
   "cell_type": "code",
   "execution_count": null,
   "metadata": {},
   "outputs": [],
   "source": []
  },
  {
   "cell_type": "code",
   "execution_count": null,
   "metadata": {},
   "outputs": [],
   "source": [
    "import re\n",
    "import ast\n",
    "import json\n",
    "import numpy as np\n",
    "from xml_generator import generate_flows_based_on_elements\n",
    "from data_structure_methods import dump_positions, init_element_positions, assign_shift_and_depth\n",
    "\n",
    "parsed_jsons = []\n",
    "\n",
    "def clean_line(line):\n",
    "    # Remove ObjectId(...) and datetime.datetime(...) safely\n",
    "    line = re.sub(r\"ObjectId\\('.*?'\\)\", '\"ObjectId\"', line)\n",
    "    line = re.sub(r\"datetime\\.datetime\\([^\\)]+\\)\", '\"datetime\"', line)\n",
    "    return line\n",
    "\n",
    "with open(\"out_public.txt\", \"r\") as file:\n",
    "    for line in file:\n",
    "        try:\n",
    "            cleaned_line = clean_line(line)\n",
    "\n",
    "            # Safely parse the outer line to a Python dictionary\n",
    "            line_dict = ast.literal_eval(cleaned_line)\n",
    "\n",
    "            # Get the 'content' string\n",
    "            content_raw = line_dict.get('content')\n",
    "            if content_raw:\n",
    "                # Parse the inner string content into a dictionary\n",
    "                content_dict = ast.literal_eval(content_raw)\n",
    "                parsed_jsons.append(content_dict)\n",
    "\n",
    "        except Exception as e:\n",
    "            print(f\"Failed to parse line: {e}\")\n",
    "\n",
    "for process_i, json_process in enumerate(parsed_jsons):\n",
    "    print(\"processing entry \",process_i)\n",
    "    json_data = json.dumps(json_process, indent=4)\n",
    "    parsed_json_input = json.loads(json_data)\n",
    "    \n",
    "    for elem in parsed_json_input[\"elements\"]:\n",
    "        elem[\"outgoing_flows\"] = []\n",
    "        elem[\"incoming_flows\"] = []\n",
    "    \n",
    "    parsed_json = generate_flows_based_on_elements(parsed_json_input)\n",
    "    elements_as_data_struc = assign_shift_and_depth(parsed_json)\n",
    "\n",
    "    elem_pos = init_element_positions(elements_as_data_struc)\n",
    "    from xml_generator import xml_position_appender, generate_top_bpmn_xml\n",
    "    top_xml_part = generate_top_bpmn_xml(elem_pos)\n",
    "    xml_position_appender(elem_pos, top_xml_part, f\"json_process_v12_{process_i}\")"
   ]
  }
 ],
 "metadata": {
  "kernelspec": {
   "display_name": "layouter-env",
   "language": "python",
   "name": "python3"
  },
  "language_info": {
   "codemirror_mode": {
    "name": "ipython",
    "version": 3
   },
   "file_extension": ".py",
   "mimetype": "text/x-python",
   "name": "python",
   "nbconvert_exporter": "python",
   "pygments_lexer": "ipython3",
   "version": "3.13.2"
  }
 },
 "nbformat": 4,
 "nbformat_minor": 2
}
